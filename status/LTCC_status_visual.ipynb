{
 "cells": [
  {
   "cell_type": "markdown",
   "id": "analyzed-sunrise",
   "metadata": {},
   "source": [
    "# LTCC status visual\n",
    "\n",
    "This Jupyter Notebook can be used to create the \"LTCC status table through time\" plot."
   ]
  },
  {
   "cell_type": "code",
   "execution_count": 1,
   "id": "chemical-collins",
   "metadata": {},
   "outputs": [
    {
     "name": "stderr",
     "output_type": "stream",
     "text": [
      "Matplotlib created a temporary config/cache directory at /tmp/matplotlib-2vvewy9x because the default path (/home/jovyan/.cache/matplotlib) is not a writable directory; it is highly recommended to set the MPLCONFIGDIR environment variable to a writable directory, in particular to speed up the import of Matplotlib and to better support multiprocessing.\n"
     ]
    }
   ],
   "source": [
    "import glob\n",
    "import numpy as np\n",
    "import matplotlib.pyplot as plt"
   ]
  },
  {
   "cell_type": "code",
   "execution_count": 2,
   "id": "configured-gravity",
   "metadata": {},
   "outputs": [],
   "source": [
    "def get_status_array(status_file):\n",
    "    with open(status_file) as fp:\n",
    "        return np.loadtxt(status_file, dtype=int).reshape(6,2,18,4)"
   ]
  },
  {
   "cell_type": "markdown",
   "id": "liberal-mentor",
   "metadata": {},
   "source": [
    "**Data path**"
   ]
  },
  {
   "cell_type": "code",
   "execution_count": 3,
   "id": "comic-toolbox",
   "metadata": {},
   "outputs": [],
   "source": [
    "data_path = '../ltccCalibrationData/status/'  # my local data path - replace with the correct repo/folder location\n",
    "data_path  = './' # path when executing from the repository inside the \"status\" folder"
   ]
  },
  {
   "cell_type": "markdown",
   "id": "proof-relief",
   "metadata": {},
   "source": [
    "**Memo on the shape**\n",
    "\n",
    "Each status file has 216 lines: 6 sectors, 2 sides (L|R), 18 channels.\n",
    "\n",
    "Creating a (6, 2, 18, 4) array. The last dimension - last index contains the status value\n",
    "\n",
    "- 1st sector, left, 1st channel = s[0,0,0]\n",
    "- 1st sector, left, 2nd channel = s[0,0,1]\n",
    "- ...\n",
    "- 1st sector, right, 1st channel = s[0,1,0]\n",
    "- ..."
   ]
  },
  {
   "cell_type": "code",
   "execution_count": 5,
   "id": "acoustic-adolescent",
   "metadata": {},
   "outputs": [
    {
     "name": "stdout",
     "output_type": "stream",
     "text": [
      "s shape = (6, 2, 18, 4)\n"
     ]
    }
   ],
   "source": [
    "# Just a check of the get_status_array function  \n",
    "s = get_status_array(data_path + 'LTCC_status_0.txt')\n",
    "print(\"s shape =\",s.shape)\n"
   ]
  },
  {
   "cell_type": "markdown",
   "id": "surgical-clothing",
   "metadata": {},
   "source": [
    "**Data ranges**\n",
    "\n",
    "- RG-M Fall 2021 : 14776-15884\n",
    "- RG-I Summer 2021   : 14130-14775\n",
    "- RG-F Summer 2020   : 12321-12951\n",
    "- RG-F Spring 2020 : 11607-12282\n",
    "- RG-B Winter 2020   : 11323-11571\n",
    "- RG-B Fall 2019   : 11014-11309\n",
    "- RG-A Spring 2019 : 6607-6783\n",
    "- RG-B Spring 2019 : 6141-6606\n",
    "- RG-K Fall 2018   : 5674-6000\n",
    "- RG-A Fall 2018   : 4760-5674\n",
    "- RG-A Spring 2018 : 3029-4326\n",
    "- Engineering Run  : 1960-2999"
   ]
  },
  {
   "cell_type": "code",
   "execution_count": 6,
   "id": "female-integration",
   "metadata": {},
   "outputs": [],
   "source": [
    "rg_ranges = [{'name' : 'RG-C Summer 2022', 'start_run' : 16000, 'end_run'   : 20000},\n",
    "             {'name' : 'RG-M Fall 2021', 'start_run' : 14776, 'end_run'   : 15884},\n",
    "             {'name' : 'RG-I Summer 2021', 'start_run' : 14130, 'end_run'   : 14775},\n",
    "             {'name' : 'RG-F Summer 2020', 'start_run' : 12321, 'end_run'   : 12951},\n",
    "             {'name' : 'RG-F Spring 2020', 'start_run' : 11607, 'end_run'   : 12282},\n",
    "             {'name' : 'RG-B Winter 2020', 'start_run' : 11323, 'end_run'   : 11571},\n",
    "             {'name' : 'RG-B Fall 2019', 'start_run' : 11014, 'end_run'   : 11309},\n",
    "             {'name' : 'RG-A Spring 2019', 'start_run' : 6607, 'end_run'   : 6783},\n",
    "             {'name' : 'RG-B Spring 2019', 'start_run' : 6141, 'end_run'   : 6606},\n",
    "             {'name' : 'RG-K Fall 2018', 'start_run' : 5674, 'end_run'   : 6000},\n",
    "             {'name' : 'RG-A Fall 2018', 'start_run' : 4760, 'end_run'   : 5674},\n",
    "             {'name' : 'RG-A Spring 2018', 'start_run' : 3029, 'end_run'   : 4326},\n",
    "             {'name' : 'Engineering Run', 'start_run' : 1960, 'end_run'   : 2999}\n",
    "            ]"
   ]
  },
  {
   "cell_type": "code",
   "execution_count": 7,
   "id": "random-henry",
   "metadata": {},
   "outputs": [
    {
     "name": "stdout",
     "output_type": "stream",
     "text": [
      "Available runs:  [3135, 5472, 5694, 5700, 5893, 6200, 6201, 6213, 6379, 6380, 6386, 6389, 6396, 6420, 6467, 6522, 6591, 6609, 6619, 6631, 6672, 6698, 6715, 6765, 11015, 11171, 11324, 11489, 11674, 12422, 12478, 16066]\n"
     ]
    }
   ],
   "source": [
    "# Read all the available status files\n",
    "\n",
    "files = glob.glob(data_path + '*status_[0-9]*')\n",
    "runs = [{\n",
    "    'run_number': int(f.split(\"_\")[-1].split(\".\")[0]),\n",
    "    'path'      : f,\n",
    "    'status'    : get_status_array(f)\n",
    "} for f in files if int(f.split(\"_\")[-1].split(\".\")[0])>0]\n",
    "\n",
    "runs = sorted(runs, key=lambda x:x['run_number'])\n",
    "print('Available runs: ',[r['run_number'] for r in runs])"
   ]
  },
  {
   "cell_type": "code",
   "execution_count": 8,
   "id": "rolled-texture",
   "metadata": {},
   "outputs": [
    {
     "name": "stdout",
     "output_type": "stream",
     "text": [
      "Run group            Start-End            Monitored runs for status table\n",
      "----------------------------------------------------------------------------------------------------\n",
      "RG-C Summer 2022     16000-20000         16066, \n",
      "RG-M Fall 2021       14776-15884         \n",
      "RG-I Summer 2021     14130-14775         \n",
      "RG-F Summer 2020     12321-12951         12422, 12478, \n",
      "RG-F Spring 2020     11607-12282         11674, \n",
      "RG-B Winter 2020     11323-11571         11324, 11489, \n",
      "RG-B Fall 2019       11014-11309         11015, 11171, \n",
      "RG-A Spring 2019     6607-6783           6609, 6619, 6631, 6672, 6698, 6715, 6765, \n",
      "RG-B Spring 2019     6141-6606           6200, 6201, 6213, 6379, 6380, 6386, 6389, 6396, 6420, 6467, 6522, 6591, \n",
      "RG-K Fall 2018       5674-6000           5694, 5700, 5893, \n",
      "RG-A Fall 2018       4760-5674           5472, \n",
      "RG-A Spring 2018     3029-4326           3135, \n",
      "Engineering Run      1960-2999           \n"
     ]
    }
   ],
   "source": [
    "# Check which run do I have for each RG\n",
    "\n",
    "print(f\"{'Run group':<20} {'Start-End':<20} {'Monitored runs for status table':<20}\")\n",
    "print('-'*100)\n",
    "for rg in rg_ranges:\n",
    "    print(f\"{rg['name']:<20} {str(rg['start_run'])+'-'+str(rg['end_run']):<20}\", end='')\n",
    "    for r in runs:\n",
    "        if rg['start_run']<= r['run_number'] <= rg['end_run']:\n",
    "            print(r['run_number'], end=', ')\n",
    "    print('')"
   ]
  },
  {
   "cell_type": "code",
   "execution_count": 9,
   "id": "expressed-soldier",
   "metadata": {},
   "outputs": [
    {
     "name": "stdout",
     "output_type": "stream",
     "text": [
      "From 3135 to 16066\n"
     ]
    }
   ],
   "source": [
    "# Crate a run axis based on the run numbers in the runs dict\n",
    "# exclude run 0\n",
    "run_list = [r['run_number'] for r in runs if (r['run_number']>0)]\n",
    "# put here some custo run range to create a zoomed plot later on\n",
    "#run_list = [r['run_number'] for r in runs if (r['run_number']>11000) and (r['run_number']<12500)]  # custom run range\n",
    "run_min, run_max = min(run_list), max(run_list)\n",
    "print(\"From\",run_min,\"to\",run_max)\n",
    "run_axis = np.arange(run_min, run_max, dtype=int)"
   ]
  },
  {
   "cell_type": "code",
   "execution_count": null,
   "id": "whole-bikini",
   "metadata": {},
   "outputs": [],
   "source": []
  },
  {
   "cell_type": "code",
   "execution_count": 10,
   "id": "reflected-paintball",
   "metadata": {},
   "outputs": [],
   "source": [
    "# Function to retrieve the status for a given sector and render its status in a 2D plot\n",
    "def get_status_2d(sector=0, side=0):\n",
    "    status_2d = np.zeros((18,len(run_axis)), dtype=int)\n",
    "    ipos = 0\n",
    "    for i,r in enumerate(run_list[:-1]):\n",
    "        start_run = r\n",
    "        stop_run  = run_list[i+1]\n",
    "        #print(i,i%2,start_run,stop_run,ipos)\n",
    "        # print(i,runs[i]['run_number'],runs[i]['status'][2,0,9,3])\n",
    "        how_many = stop_run-start_run\n",
    "        for j in range(ipos, ipos+how_many): #start_run,stop_run\n",
    "            for k in range(18):\n",
    "                status_2d[k,j] = runs[i]['status'][sector,side,k,3]*255 + (1-runs[i]['status'][sector,side,k,3])*40*(i%2)\n",
    "        ipos += how_many\n",
    "    return status_2d"
   ]
  },
  {
   "cell_type": "markdown",
   "id": "obvious-feeding",
   "metadata": {},
   "source": [
    "Note: *bwr* is a [diverging colormap](https://matplotlib.org/stable/users/explain/colors/colormaps.html#diverging) ranging from blue to red. When assigning a status value in the *get_status_2d* function the maximum (255) is set for status=1, whereas an intermediate 0, 40, 0, 40 is used to represent status=1 but with alternating shades of blues to rep.\n"
   ]
  },
  {
   "cell_type": "code",
   "execution_count": 13,
   "id": "earlier-investing",
   "metadata": {},
   "outputs": [
    {
     "data": {
      "image/png": "[encoded data removed]",
      "text/plain": [
       "<Figure size 1512x1080 with 4 Axes>"
      ]
     },
     "metadata": {
      "needs_background": "light"
     },
     "output_type": "display_data"
    }
   ],
   "source": [
    "fig, ax = plt.subplots(4,1,figsize=(21,15))\n",
    "fig.suptitle(\"LTCC status table\\n through time\", fontsize=22)\n",
    "ax[0].imshow(get_status_2d(2,0), aspect='auto', origin='lower', extent = [run_axis[0],run_axis[-1],0.5,18.5], cmap='bwr', interpolation='none', vmin=0, vmax=255)\n",
    "ax[1].imshow(get_status_2d(2,1), aspect='auto', origin='lower', extent = [run_axis[0],run_axis[-1],0.5,18.5], cmap='bwr', interpolation='none', vmin=0, vmax=255)\n",
    "ax[2].imshow(get_status_2d(4,0), aspect='auto', origin='lower', extent = [run_axis[0],run_axis[-1],0.5,18.5], cmap='bwr', interpolation='none', vmin=0, vmax=255)\n",
    "ax[3].imshow(get_status_2d(4,1), aspect='auto', origin='lower', extent = [run_axis[0],run_axis[-1],0.5,18.5], cmap='bwr', interpolation='none', vmin=0, vmax=255)\n",
    "#ax.set_xticks(run_axis)\n",
    "ax[0].set_yticks(range(1,19))\n",
    "ax[1].set_yticks(range(1,19))\n",
    "ax[2].set_yticks(range(1,19))\n",
    "ax[3].set_yticks(range(1,19))\n",
    "ax[0].set_ylabel(\"Sector 3 LEFT\\nChannels\", fontsize=16)\n",
    "ax[1].set_ylabel(\"Sector 3 RIGHT\\nChannels\", fontsize=16)\n",
    "ax[2].set_ylabel(\"Sector 5 LEFT\\nChannels\", fontsize=16)\n",
    "ax[3].set_ylabel(\"Sector 5 RIGHT\\nChannels\", fontsize=16)\n",
    "\n",
    "fig.savefig('ltcc_status_table_visual.png')\n",
    "plt.show()"
   ]
  }
 ],
 "metadata": {
  "kernelspec": {
   "display_name": "Python 3",
   "language": "python",
   "name": "python3"
  },
  "language_info": {
   "codemirror_mode": {
    "name": "ipython",
    "version": 3
   },
   "file_extension": ".py",
   "mimetype": "text/x-python",
   "name": "python",
   "nbconvert_exporter": "python",
   "pygments_lexer": "ipython3",
   "version": "3.8.6"
  }
 },
 "nbformat": 4,
 "nbformat_minor": 5
}
